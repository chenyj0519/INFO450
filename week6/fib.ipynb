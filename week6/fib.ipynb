import logging
logging.basicConfig(format='%(levelname)s: %(message)s', level=logging.DEBUG)


def fib(n):
    first = 0
    second = 1
    for n in range(n):
        print(first)
        first, second = second, first+second

        
if__name__=='__main__':
    logging.debug("Calling fib(2)")
    fib（2）
    logging.debug("Calling fib(10)")
    fib(10)
    logging.debug("Calling fib(20)")
    fib(20)
    
